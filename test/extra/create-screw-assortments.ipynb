{
 "cells": [
  {
   "cell_type": "markdown",
   "metadata": {},
   "source": [
    "# create test files"
   ]
  },
  {
   "cell_type": "code",
   "execution_count": 1,
   "metadata": {},
   "outputs": [
    {
     "name": "stdout",
     "output_type": "stream",
     "text": [
      "1000 1000\n"
     ]
    }
   ],
   "source": [
    "import cv2\n",
    "import numpy as np\n",
    "import random\n",
    "\n",
    "# Load an image of a single screw (you need to have an image file)\n",
    "screw_img = cv2.imread('./data/screw-image.jpg', cv2.IMREAD_COLOR)\n",
    "\n",
    "# Define the dimensions of the output image and the number of screws\n",
    "output_height = 600\n",
    "output_width = 800\n",
    "num_screws = 20\n",
    "\n",
    "# Create an empty white canvas\n",
    "canvas = np.ones((output_height, output_width, 3), dtype=np.uint8) * 255\n",
    "\n",
    "# Get the height and width of the screw image\n",
    "screw_height, screw_width, _ = screw_img.shape\n",
    "print(screw_width, screw_height)"
   ]
  },
  {
   "cell_type": "code",
   "execution_count": 2,
   "metadata": {},
   "outputs": [],
   "source": [
    "\n",
    "# Resize the screw image\n",
    "screw_img_resized = cv2.resize(screw_img, (output_width, output_height))\n",
    "\n",
    "# Resize the canvas to match the dimensions of the screw image\n",
    "canvas_resized = cv2.resize(canvas, (screw_width, screw_height))\n",
    "\n",
    "# Generate random positions for each screw and paste them onto the resized canvas\n",
    "for _ in range(num_screws):\n",
    "    # Generate random coordinates for the screw\n",
    "    x = random.randint(0, screw_width - output_width) if screw_width >= output_width else 0\n",
    "    y = random.randint(0, screw_height - output_height) if screw_height >= output_height else 0\n",
    "    \n",
    "    # Paste the resized screw onto the resized canvas\n",
    "    canvas_resized[y:y+output_height, x:x+output_width] = screw_img_resized\n",
    "\n",
    "# Resize the canvas back to the original dimensions\n",
    "canvas = cv2.resize(canvas_resized, (output_width, output_height))\n"
   ]
  },
  {
   "cell_type": "code",
   "execution_count": 3,
   "metadata": {},
   "outputs": [],
   "source": [
    "\n",
    "# Display the jumbled arrangement\n",
    "cv2.imshow('Jumbled Screws', canvas)\n",
    "cv2.waitKey(0)\n",
    "cv2.destroyAllWindows()\n"
   ]
  },
  {
   "cell_type": "code",
   "execution_count": null,
   "metadata": {},
   "outputs": [],
   "source": []
  }
 ],
 "metadata": {
  "kernelspec": {
   "display_name": "Python 3",
   "language": "python",
   "name": "python3"
  },
  "language_info": {
   "codemirror_mode": {
    "name": "ipython",
    "version": 3
   },
   "file_extension": ".py",
   "mimetype": "text/x-python",
   "name": "python",
   "nbconvert_exporter": "python",
   "pygments_lexer": "ipython3",
   "version": "3.12.2"
  }
 },
 "nbformat": 4,
 "nbformat_minor": 2
}
